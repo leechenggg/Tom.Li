{
 "cells": [
  {
   "cell_type": "markdown",
   "metadata": {},
   "source": [
    "\n",
    "# 作业四：撰写项目README并完成开源\n",
    "\n",
    "## 评分标准\n",
    "1.格式规范（有至少3个小标题，内容完整），一个小标题5分，最高20分\n",
    "\n",
    "2.图文并茂，一张图5分，最高20分\n",
    "\n",
    "3.有可运行的代码，且代码内有详细注释，20分\n",
    "\n",
    "4.代码开源到github，15分\n",
    "\n",
    "5.代码同步到gitee，5分\n",
    "\n",
    "## 作业目的\n",
    "使用MarkDown撰写项目并且学会使用开源工具。\n",
    "\n",
    "\n",
    "\n",
    "## 参考资料：\n",
    "- [如何写好一篇高质量的精选项目？](https://aistudio.baidu.com/aistudio/projectdetail/2175889)"
   ]
  },
  {
   "cell_type": "markdown",
   "metadata": {},
   "source": [
    "\n",
    "* # 基于paddlex钢材表面缺陷检测\n",
    "\n",
    "![](https://ai-studio-static-online.cdn.bcebos.com/bc09053d79f6454ab78e1823063ca2a04be7fb45d1c64eecba1d42d18db2cb93)\n",
    "![](https://ai-studio-static-online.cdn.bcebos.com/b37f7b1e531b4f6fb1aa685fffca96345bda5f6d30704f8f85d5cdd417616da8)\n",
    "\n",
    "\n",
    "\n"
   ]
  },
  {
   "cell_type": "markdown",
   "metadata": {},
   "source": [
    " ## 一、项目背景介绍\n",
    "钢铁表面质量的好坏，直接影响后续产品的制造质量。但在生产过程中，不可避免地会产生一些缺\n",
    "陷。这些缺陷会严重影响产品质量，给企业造成经济损失。因此钢铁进行缺陷检测极为重要。传统的基于机器视觉的表面缺陷检测方法，往往采用常规图像处理算法或人工设计特征加分类器方式。这种方式成本高不够精确，在有充分的数据和高性能硬件支持的条件下，基于深度学习的表面缺陷检测可以大大提高检测精度以及检测效率。今天的项目是钢铁表面的缺陷检测，以下是[工业场景表面缺陷检测数据集及论文集](https://github.com/Charmve/Surface-Defect-Detection/blob/master/ReadmeChinese.md#1%E9%92%A2%E6%9D%90%E8%A1%A8%E9%9D%A2%E6%95%B0%E6%8D%AE%E9%9B%86neu-cls)可能对你有帮助，建议收藏。"
   ]
  },
  {
   "cell_type": "markdown",
   "metadata": {},
   "source": [
    "## 二、数据介绍\n",
    "\n",
    "**数据集介绍**\n",
    "\n",
    "地址：http://faculty.neu.edu.cn/yunhyan/NEU_surface_defect_database.html\n",
    "\n",
    "![](https://ai-studio-static-online.cdn.bcebos.com/04af07309c4e4dafa5f2e6c60739c6dae1124ddaa3fa4f88aa9c7507894f79be)\n",
    "\n",
    "\n",
    "由东北大学（NEU）发布的表面缺陷数据库，收集了热轧钢带的六种典型表面缺陷，即轧制氧化皮（RS），斑块（Pa），开裂（Cr），点蚀表面（ PS），内含物（In）和划痕（Sc）。该数据库包括1,800个200×200像素的灰度图像：六种不同类型的典型表面缺陷，每一类缺陷包含300个样本。对于缺陷检测任务，数据集提供了注释，指示每个图像中缺陷的类别和位置。对于每个缺陷，黄色框是指示其位置的边框，绿色标签是类别分数。\n",
    "\n"
   ]
  },
  {
   "cell_type": "code",
   "execution_count": 2,
   "metadata": {
    "execution": {
     "iopub.execute_input": "2022-03-07T08:19:28.776817Z",
     "iopub.status.busy": "2022-03-07T08:19:28.775698Z",
     "iopub.status.idle": "2022-03-07T08:19:28.994094Z",
     "shell.execute_reply": "2022-03-07T08:19:28.993170Z",
     "shell.execute_reply.started": "2022-03-07T08:19:28.776765Z"
    },
    "scrolled": true
   },
   "outputs": [
    {
     "name": "stdout",
     "output_type": "stream",
     "text": [
      "unzip:  cannot find or open data/data102850/NEU-DET.zip, data/data102850/NEU-DET.zip.zip or data/data102850/NEU-DET.zip.ZIP.\n"
     ]
    }
   ],
   "source": [
    "\r\n",
    "# 解压数据集到MyDataset文件夹中\r\n",
    "!unzip data/data102850/NEU-DET.zip -d ./MyDataset/"
   ]
  },
  {
   "cell_type": "markdown",
   "metadata": {},
   "source": [
    "## 三、模型介绍\n",
    "PaddleX目前提供了FasterRCNN和YOLOv3两种检测结构，多种backbone模型，可满足开发者不同场景和性能的需求。本项目中采用YOLOv3-MobileNetV3作为检测模型进行钢材缺陷检测。模型优点是模型小，移动端上预测速度有优势。因为之后要部署到移动端所以我选择了这个模型。\n"
   ]
  },
  {
   "cell_type": "markdown",
   "metadata": {},
   "source": [
    "## 四、模型训练\n",
    "PaddleX提供了丰富的视觉模型，通过查阅[PaddleX模型库](https://paddlex.readthedocs.io/zh_CN/release-1.3/appendix/model_zoo.html)，在目标检测中提供了RCNN和YOLO系列模型。在本项目中采用YOLOv3-MobileNetV3作为检测模型进行钢材缺陷检测。"
   ]
  },
  {
   "cell_type": "code",
   "execution_count": null,
   "metadata": {
    "scrolled": true
   },
   "outputs": [],
   "source": [
    "import paddlex as pdx\r\n",
    "from paddlex import transforms as T"
   ]
  },
  {
   "cell_type": "code",
   "execution_count": null,
   "metadata": {
    "scrolled": true
   },
   "outputs": [],
   "source": [
    "# 定义训练和验证时的transforms\r\n",
    "# API说明：https://github.com/PaddlePaddle/PaddleX/blob/release/2.0-rc/paddlex/cv/transforms/operators.py\r\n",
    "train_transforms = T.Compose([\r\n",
    "    T.MixupImage(mixup_epoch=250), T.RandomDistort(),\r\n",
    "    T.RandomExpand(im_padding_value=[123.675, 116.28, 103.53]), T.RandomCrop(),\r\n",
    "    T.RandomHorizontalFlip(), T.BatchRandomResize(\r\n",
    "        target_sizes=[320, 352, 384, 416, 448, 480, 512, 544, 576, 608],\r\n",
    "        interp='RANDOM'), T.Normalize(\r\n",
    "            mean=[0.485, 0.456, 0.406], std=[0.229, 0.224, 0.225])\r\n",
    "])\r\n",
    "\r\n",
    "eval_transforms = T.Compose([\r\n",
    "    T.Resize(\r\n",
    "        608, interp='CUBIC'), T.Normalize(\r\n",
    "            mean=[0.485, 0.456, 0.406], std=[0.229, 0.224, 0.225])\r\n",
    "])"
   ]
  },
  {
   "cell_type": "code",
   "execution_count": null,
   "metadata": {
    "scrolled": true
   },
   "outputs": [],
   "source": [
    "# 定义训练和验证所用的数据集\r\n",
    "# API说明：https://github.com/PaddlePaddle/PaddleX/blob/release/2.0-rc/paddlex/cv/datasets/voc.py#L29\r\n",
    "train_dataset = pdx.datasets.VOCDetection(\r\n",
    "    data_dir='MyDataset',\r\n",
    "    file_list='MyDataset/train_list.txt',\r\n",
    "    label_list='MyDataset/labels.txt',\r\n",
    "    transforms=train_transforms,\r\n",
    "    shuffle=True)\r\n",
    "\r\n",
    "eval_dataset = pdx.datasets.VOCDetection(\r\n",
    "    data_dir='MyDataset',\r\n",
    "    file_list='MyDataset/val_list.txt',\r\n",
    "    label_list='MyDataset/labels.txt',\r\n",
    "    transforms=eval_transforms,\r\n",
    "    shuffle=False)"
   ]
  },
  {
   "cell_type": "code",
   "execution_count": null,
   "metadata": {
    "scrolled": true
   },
   "outputs": [],
   "source": [
    "# 初始化模型，并进行训练\r\n",
    "# 可使用VisualDL查看训练指标，参考https://github.com/PaddlePaddle/PaddleX/tree/release/2.0-rc/tutorials/train#visualdl可视化训练指标\r\n",
    "num_classes = len(train_dataset.labels)\r\n",
    "model = pdx.models.YOLOv3(num_classes=num_classes, backbone='MobileNetV3_ssld')"
   ]
  },
  {
   "cell_type": "code",
   "execution_count": null,
   "metadata": {
    "scrolled": true
   },
   "outputs": [],
   "source": [
    "# API说明：https://github.com/PaddlePaddle/PaddleX/blob/release/2.0-rc/paddlex/cv/models/detector.py#L155\r\n",
    "# 各参数介绍与调整说明：https://paddlex.readthedocs.io/zh_CN/develop/appendix/parameters.html\r\n",
    "model.train(\r\n",
    "    num_epochs=300,\r\n",
    "    train_dataset=train_dataset,\r\n",
    "    train_batch_size=2,\r\n",
    "    eval_dataset=eval_dataset,\r\n",
    "    learning_rate=0.001 / 8,\r\n",
    "    warmup_steps=1000,\r\n",
    "    warmup_start_lr=0.0,\r\n",
    "    save_interval_epochs=20,\r\n",
    "    lr_decay_epochs=[216, 243, 275],\r\n",
    "    save_dir='output/yolov3_mobilenet')"
   ]
  },
  {
   "cell_type": "markdown",
   "metadata": {},
   "source": [
    "## 五、模型评估\n",
    "该部分主要是对训练好的模型进行评估，可以是用验证集进行评估，或者是直接预测结果。评估结果和预测结果尽量展示出来，增加吸引力。"
   ]
  },
  {
   "cell_type": "code",
   "execution_count": null,
   "metadata": {
    "scrolled": true
   },
   "outputs": [],
   "source": [
    "import glob\r\n",
    "import numpy as np\r\n",
    "import threading\r\n",
    "import time\r\n",
    "import random\r\n",
    "import os\r\n",
    "import base64\r\n",
    "import cv2\r\n",
    "import json\r\n",
    "import paddlex as pdx\r\n",
    "\r\n",
    "image_name = 'MyDataset/JPEGImages/pitted_surface_174.jpg'\r\n",
    "\r\n",
    "model = pdx.load_model('output/yolov3_mobilenet/best_model')\r\n",
    "\r\n",
    "img = cv2.imread(image_name)\r\n",
    "result = model.predict(img)\r\n",
    "\r\n",
    "keep_results = []\r\n",
    "areas = []\r\n",
    "f = open('output/yolov3_mobilenet/result.txt','a')\r\n",
    "count = 0\r\n",
    "for dt in np.array(result):\r\n",
    "    cname, bbox, score = dt['category'], dt['bbox'], dt['score']\r\n",
    "    if score < 0.5:\r\n",
    "        continue\r\n",
    "    keep_results.append(dt)\r\n",
    "    count+=1\r\n",
    "    f.write(str(dt)+'\\n')\r\n",
    "    f.write('\\n')\r\n",
    "    areas.append(bbox[2] * bbox[3])\r\n",
    "areas = np.asarray(areas)\r\n",
    "sorted_idxs = np.argsort(-areas).tolist()\r\n",
    "keep_results = [keep_results[k]\r\n",
    "                for k in sorted_idxs] if len(keep_results) > 0 else []\r\n",
    "print(keep_results)\r\n",
    "print(count)\r\n",
    "f.write(\"the total number is :\"+str(int(count)))\r\n",
    "f.close()"
   ]
  },
  {
   "cell_type": "code",
   "execution_count": null,
   "metadata": {
    "scrolled": true
   },
   "outputs": [],
   "source": [
    "pdx.visualize_detection(image_name, result, threshold=0.5, save_dir='./output/yolov3_mobilenet')"
   ]
  },
  {
   "cell_type": "markdown",
   "metadata": {},
   "source": [
    "## 六、总结与升华\n",
    "本文参考作者https://aistudio.baidu.com/aistudio/personalcenter/thirdview/791590 项目来写的，通过本次项目编写，学习了编写项目的流程以及BML使用方法。本人刚开始入门机器学习，还有很多需要学习的地方。感谢创造营的老师，希望以后自己能够独立完成模型的训练与部署。![](https://ai-studio-static-online.cdn.bcebos.com/8f411a2beffb408c9f56054dffa2b7ee6945a414c01a484a97ada7c0172d916b)\n"
   ]
  },
  {
   "cell_type": "markdown",
   "metadata": {},
   "source": [
    "## 提交链接\n",
    "aistudio链接：我在AI Studio上获得白银等级，点亮2个徽章，来互关呀~ https://aistudio.baidu.com/aistudio/usercenter\n",
    "\n",
    "github链接：\n",
    "\n",
    "gitee链接："
   ]
  }
 ],
 "metadata": {
  "kernelspec": {
   "display_name": "Python 3",
   "language": "python",
   "name": "py35-paddle1.2.0"
  },
  "language_info": {
   "codemirror_mode": {
    "name": "ipython",
    "version": 3
   },
   "file_extension": ".py",
   "mimetype": "text/x-python",
   "name": "python",
   "nbconvert_exporter": "python",
   "pygments_lexer": "ipython3",
   "version": "3.7.4"
  }
 },
 "nbformat": 4,
 "nbformat_minor": 4
}
